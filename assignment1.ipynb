{
 "cells": [
  {
   "cell_type": "markdown",
   "metadata": {},
   "source": [
    "## Assignment 1"
   ]
  },
  {
   "cell_type": "markdown",
   "metadata": {},
   "source": [
    "### Import ass1_classifiers.py, this script has all the needed functions"
   ]
  },
  {
   "cell_type": "code",
   "execution_count": 13,
   "metadata": {},
   "outputs": [],
   "source": [
    "import ass1_classifiers\n",
    "\n",
    "from ass1_classifiers import load_labeled_words\n",
    "from ass1_classifiers import load_and_label_reviews\n",
    "from ass1_classifiers import transform_to_features\n",
    "from ass1_classifiers import knn_clf_fun\n",
    "from ass1_classifiers import sgd_clf_fun\n",
    "from ass1_classifiers import sgd_clf_fun_five_stars\n",
    "import warnings\n",
    "\n",
    "warnings.simplefilter(action='ignore', category=FutureWarning)"
   ]
  },
  {
   "cell_type": "markdown",
   "metadata": {},
   "source": []
  },
  {
   "cell_type": "code",
   "execution_count": 14,
   "metadata": {},
   "outputs": [],
   "source": [
    "labeled_words_file_path = \"data/labeled_words.txt\"\n",
    "yelp_review_data_path = \"data/review_10000.json\""
   ]
  },
  {
   "cell_type": "code",
   "execution_count": 15,
   "metadata": {},
   "outputs": [],
   "source": [
    "# read start labeling the data by using labeled_words_file\n",
    "labeled_data = load_labeled_words(labeled_words_file_path)"
   ]
  },
  {
   "cell_type": "code",
   "execution_count": 16,
   "metadata": {},
   "outputs": [],
   "source": [
    "# load and label the reviews from the dataset\n",
    "data, data_labels, stars_indexes = load_and_label_reviews(yelp_review_data_path, labeled_data)\n"
   ]
  },
  {
   "cell_type": "code",
   "execution_count": 17,
   "metadata": {},
   "outputs": [
    {
     "name": "stdout",
     "output_type": "stream",
     "text": [
      "Labeling data stats:\n",
      "Positive entries: 7964\n",
      "Negative entries: 794\n",
      "Neutral entries: 1242\n"
     ]
    }
   ],
   "source": [
    "print(\"Labeling data stats:\")\n",
    "print(\"Positive entries: %s\" % data_labels.count(\"positive\"))\n",
    "print(\"Negative entries: %s\" % data_labels.count(\"negative\"))\n",
    "print(\"Neutral entries: %s\" % data_labels.count(\"neutral\"))"
   ]
  },
  {
   "cell_type": "code",
   "execution_count": null,
   "metadata": {},
   "outputs": [],
   "source": [
    "# transform data into a matrix\n",
    "features_nd = transform_to_features(data)"
   ]
  },
  {
   "cell_type": "code",
   "execution_count": null,
   "metadata": {},
   "outputs": [],
   "source": [
    "from sklearn.model_selection import train_test_split\n",
    "\n",
    "# split data 80% for testing and 20% for testing (make sure to use random_state=1234)\n",
    "X_train, X_test, y_train, y_test = train_test_split(\n",
    "    features_nd,\n",
    "    data_labels,\n",
    "    train_size=0.80,\n",
    "    random_state=1234\n",
    ")"
   ]
  },
  {
   "cell_type": "code",
   "execution_count": null,
   "metadata": {},
   "outputs": [
    {
     "name": "stdout",
     "output_type": "stream",
     "text": [
      "Starting the SGDClassifier with max iterations of 100 and using all test data\n",
      "--- SGD got accuracy score of 0.8395 ---\n",
      "--- SGD got cross validation score of [0.82871064 0.832021   0.82589118] ---\n",
      "--- SGD got precision score of 0.6258920088401925 ---\n",
      "--- SGD got recall score of 0.5931373429100902 ---\n",
      "--- SGD got F1 score of 0.6078640411062998 ---\n"
     ]
    }
   ],
   "source": [
    "# Start the SGD classifier function\n",
    "sgd_clf_fun(X_train, X_test, y_train, y_test)"
   ]
  },
  {
   "cell_type": "code",
   "execution_count": null,
   "metadata": {},
   "outputs": [],
   "source": [
    "# split data 80% for testing and 20% for testing (make sure to use random_state=1234)\n",
    "# do this again to keep track of the stars list indexes\n",
    "_, _, y_train_ratings, y_test_ratings = train_test_split(\n",
    "    features_nd,\n",
    "    stars_indexes,\n",
    "    train_size=0.80,\n",
    "    random_state=1234)"
   ]
  },
  {
   "cell_type": "code",
   "execution_count": null,
   "metadata": {},
   "outputs": [],
   "source": [
    "# record the indices associated with 5.0 start ratings\n",
    "five_star_indices = [i for i, x in enumerate(y_test_ratings) if x == '5.0']"
   ]
  },
  {
   "cell_type": "code",
   "execution_count": null,
   "metadata": {},
   "outputs": [
    {
     "name": "stdout",
     "output_type": "stream",
     "text": [
      "Starting the SGDClassifier with max iterations of 100 and using only the test data associated with 5 stars\n"
     ]
    }
   ],
   "source": [
    "sgd_clf_fun_five_stars(X_train, X_test, y_train, y_test, five_star_indices, features_nd, data)"
   ]
  },
  {
   "cell_type": "code",
   "execution_count": null,
   "metadata": {},
   "outputs": [],
   "source": [
    "knn_clf_fun(X_train, X_test, y_train, y_test)"
   ]
  },
  {
   "cell_type": "code",
   "execution_count": null,
   "metadata": {},
   "outputs": [],
   "source": []
  },
  {
   "cell_type": "code",
   "execution_count": null,
   "metadata": {},
   "outputs": [],
   "source": []
  }
 ],
 "metadata": {
  "kernelspec": {
   "display_name": "Python 3",
   "language": "python",
   "name": "python3"
  },
  "language_info": {
   "codemirror_mode": {
    "name": "ipython",
    "version": 3
   },
   "file_extension": ".py",
   "mimetype": "text/x-python",
   "name": "python",
   "nbconvert_exporter": "python",
   "pygments_lexer": "ipython3",
   "version": "3.7.0"
  }
 },
 "nbformat": 4,
 "nbformat_minor": 2
}
