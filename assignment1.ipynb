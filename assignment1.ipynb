{
 "cells": [
  {
   "cell_type": "markdown",
   "metadata": {},
   "source": [
    "## Assignment 1"
   ]
  },
  {
   "cell_type": "markdown",
   "metadata": {},
   "source": [
    "### Import ass1_classifiers.py, this script has all the needed functions"
   ]
  },
  {
   "cell_type": "code",
   "execution_count": 1,
   "metadata": {},
   "outputs": [],
   "source": [
    "import ass1_classifiers\n",
    "\n",
    "from ass1_classifiers import load_labeled_words\n",
    "from ass1_classifiers import load_and_label_reviews\n",
    "from ass1_classifiers import transform_to_features\n",
    "from ass1_classifiers import knn_clf_fun\n",
    "from ass1_classifiers import sgd_clf_fun\n",
    "from ass1_classifiers import sgd_clf_fun_five_stars\n",
    "import warnings\n",
    "\n",
    "warnings.simplefilter(action='ignore', category=FutureWarning)"
   ]
  },
  {
   "cell_type": "markdown",
   "metadata": {},
   "source": [
    "### Using 1,000 data size for this sample run (adjust as necessary):"
   ]
  },
  {
   "cell_type": "code",
   "execution_count": 2,
   "metadata": {},
   "outputs": [],
   "source": [
    "labeled_words_file_path = \"data/labeled_words.txt\"\n",
    "yelp_review_data_path = \"data/review_1000.json\""
   ]
  },
  {
   "cell_type": "markdown",
   "metadata": {},
   "source": [
    "#### Read and create dictionary of word scores from the data in labeled_words_file"
   ]
  },
  {
   "cell_type": "code",
   "execution_count": 3,
   "metadata": {},
   "outputs": [],
   "source": [
    "labeled_data = load_labeled_words(labeled_words_file_path)"
   ]
  },
  {
   "cell_type": "markdown",
   "metadata": {},
   "source": [
    "#### Load and label the reviews from the dataset"
   ]
  },
  {
   "cell_type": "code",
   "execution_count": 4,
   "metadata": {},
   "outputs": [],
   "source": [
    "data, data_labels, stars_indexes = load_and_label_reviews(yelp_review_data_path, labeled_data)"
   ]
  },
  {
   "cell_type": "markdown",
   "metadata": {},
   "source": [
    "#### Print labeling stats"
   ]
  },
  {
   "cell_type": "code",
   "execution_count": 5,
   "metadata": {},
   "outputs": [
    {
     "name": "stdout",
     "output_type": "stream",
     "text": [
      "Labeling data stats:\n",
      "Positive entries: 815\n",
      "Negative entries: 73\n",
      "Neutral entries: 112\n"
     ]
    }
   ],
   "source": [
    "print(\"Labeling data stats:\")\n",
    "print(\"Positive entries: %s\" % data_labels.count(\"positive\"))\n",
    "print(\"Negative entries: %s\" % data_labels.count(\"negative\"))\n",
    "print(\"Neutral entries: %s\" % data_labels.count(\"neutral\"))"
   ]
  },
  {
   "cell_type": "markdown",
   "metadata": {},
   "source": [
    "#### Transform data into a matrix"
   ]
  },
  {
   "cell_type": "code",
   "execution_count": 6,
   "metadata": {},
   "outputs": [],
   "source": [
    "features_nd = transform_to_features(data)"
   ]
  },
  {
   "cell_type": "markdown",
   "metadata": {},
   "source": [
    "#### Split data 80% for training and 20% for testing (make sure to use random_state=1234)"
   ]
  },
  {
   "cell_type": "code",
   "execution_count": 7,
   "metadata": {},
   "outputs": [],
   "source": [
    "from sklearn.model_selection import train_test_split\n",
    "\n",
    "X_train, X_test, y_train, y_test = train_test_split(\n",
    "    features_nd,\n",
    "    data_labels,\n",
    "    train_size=0.80,\n",
    "    random_state=1234\n",
    ")"
   ]
  },
  {
   "cell_type": "markdown",
   "metadata": {},
   "source": [
    "### PART 1"
   ]
  },
  {
   "cell_type": "markdown",
   "metadata": {},
   "source": [
    "#### Start the SGD classifier function and print Scores\n",
    "##### Starting the SGDClassifier with max iterations of 100 and using all test data\n",
    "##### Results:"
   ]
  },
  {
   "cell_type": "code",
   "execution_count": 8,
   "metadata": {},
   "outputs": [
    {
     "name": "stdout",
     "output_type": "stream",
     "text": [
      "Starting the SGDClassifier with max iterations of 100 and using all test data\n",
      "--- SGD got accuracy score of 0.81 ---\n",
      "--- SGD got cross validation score of [0.75746269 0.80898876 0.81132075] ---\n",
      "--- SGD got precision score of 0.6482873851294904 ---\n",
      "--- SGD got recall score of 0.5084689361418921 ---\n",
      "--- SGD got F1 score of 0.5486765599236311 ---\n"
     ]
    }
   ],
   "source": [
    "sgd_clf_fun(X_train, X_test, y_train, y_test)"
   ]
  },
  {
   "cell_type": "markdown",
   "metadata": {},
   "source": [
    "### PART 2\n",
    "#### split data 80% for testing and 20% for testing (make sure to use random_state=1234). This is needed to keep track of the stars list indexes"
   ]
  },
  {
   "cell_type": "code",
   "execution_count": 9,
   "metadata": {},
   "outputs": [],
   "source": [
    "_, _, y_train_ratings, y_test_ratings = train_test_split(\n",
    "    features_nd,\n",
    "    stars_indexes,\n",
    "    train_size=0.80,\n",
    "    random_state=1234)"
   ]
  },
  {
   "cell_type": "markdown",
   "metadata": {},
   "source": [
    "#### Record the indices associated with 5.0 start ratings"
   ]
  },
  {
   "cell_type": "code",
   "execution_count": 10,
   "metadata": {},
   "outputs": [],
   "source": [
    "five_star_indices = [i for i, x in enumerate(y_test_ratings) if x == '5.0']"
   ]
  },
  {
   "cell_type": "markdown",
   "metadata": {},
   "source": [
    "##### Starting the SGDClassifier with max iterations of 100 and using only the test data associated with 5 stars\n",
    "##### Results:"
   ]
  },
  {
   "cell_type": "code",
   "execution_count": 11,
   "metadata": {},
   "outputs": [
    {
     "name": "stdout",
     "output_type": "stream",
     "text": [
      "Starting the SGDClassifier with max iterations of 100 and using only the test data associated with 5 stars\n",
      "Few instances where it predicted positive: \n",
      "--> these people are amazingly friendly, helpful and have high integrity. i feel very happy to have found them when i moved back to phoenix and need someone to care for my car.\n",
      "--> i love southview, and i don't think i'd ever say i love a dentists' office.  every member of the staff is extremely friendly and courteous. no matter what time of day i am there everyone is (or pretends to be) in the best mood ever. very professional, very clean and modern, even relaxing!  everyone was upfront with pricing, they wanted to make me feel as comfortable as possible (massage options in the chair? tvs above you? headphones for the tv? yes please!), and even though i know they're churning through patients, i never feel rushed out the door if i have questions or concerns.   after my initial consultation there i've had my teeth cleaned, old fillings repaired, and even some new cavities filled. they use a three-part numbing process so i've never had issues with pain.   my only complaint is sometimes, especially towards the end of the year, appointments are hard to book - but that's kind of how it goes most places.   definitely recommend them!\n",
      "--> used eat24 take out. great pizza. wings are good.  we'll worth it. i will be using them over the hut in the future\n",
      "--> i did not stay at this hotel but i did visit the hotel and the shops. beautiful place!!!! not too crowded, very quiet and peaceful... i love this place. this hotel is located on the strip on the north end.. it's less crowded on the north and there is a mall right across the street. this hotel has many high end stores for shopping such as lv, cartier, etc, but there is a regular mall across the street with macy's, forever 21, etc..  the gondola rides are nice, but short!! it's 19.95 a person and it's 10mins long. they can stay in doors and out doors with the gondola. i heard out door is better at night because of the lights. great overall experience, wonderful restaurants, awesome shops..\n",
      "--> gorgeous hotel! i felt like a vip. definitely the next best thing to the real venice, in my opinion. lots of pools to choose from and great casino. convenient location- close to everything. would definitely go there again.\n",
      "\n",
      "Few instances where it predicted negative but it should be positive: \n",
      "--> dr.k. & dr.b. together with their agape team are caring, professional, thorough and knowledgeable. dr.k. & dr.b. will holistically bring your health & well being back into balance, not just treat individual injuries. each visit is carefully tailored to your current state of being and needs.\n",
      "\n",
      "Few instances where it predicted neutral but it should be positive: \n",
      "--> i'm so..... heated... i bought the 3 amigo and it was amazing.... i can't believe they'd serve me something this good\n",
      "--> i love it! almost all options are available in a vegan version. yum! i am moving, and am so sad i will not longer be able to come here. so i made one last trip today. i hope they consider expanding so i can enjoy the yummy items here once again.\n",
      "--> lk is a great technician! he makes you feel relaxed and comfortable, as well as being extremely attentive to your nails.\n",
      "--> fair pricing. quick response. great junk removal. brandon gets it done.\n",
      "--> best barbecue this side of the mississippi!!!! come here your car washed and detailed pick up some petroleum, and slap your lips around the best barbecue you've had in arizona!!! hot diggity !!!\n",
      "\n",
      "--- SGD got accuracy score of 0.9247311827956989 ---\n",
      "--- SGD got cross validation score of [0.75746269 0.80898876 0.81132075] ---\n",
      "--- SGD got precision score of 0.3333333333333333 ---\n",
      "--- SGD got recall score of 0.3082437275985663 ---\n",
      "--- SGD got F1 score of 0.3202979515828677 ---\n"
     ]
    },
    {
     "name": "stderr",
     "output_type": "stream",
     "text": [
      "/usr/local/lib/python3.7/site-packages/sklearn/metrics/classification.py:1145: UndefinedMetricWarning: Recall is ill-defined and being set to 0.0 in labels with no true samples.\n",
      "  'recall', 'true', average, warn_for)\n",
      "/usr/local/lib/python3.7/site-packages/sklearn/metrics/classification.py:1145: UndefinedMetricWarning: F-score is ill-defined and being set to 0.0 in labels with no true samples.\n",
      "  'recall', 'true', average, warn_for)\n"
     ]
    }
   ],
   "source": [
    "sgd_clf_fun_five_stars(X_train, X_test, y_train, y_test, five_star_indices, features_nd, data)"
   ]
  },
  {
   "cell_type": "code",
   "execution_count": 12,
   "metadata": {},
   "outputs": [
    {
     "name": "stdout",
     "output_type": "stream",
     "text": [
      "--- KNN got accuracy of 0.795 and it took 0.012532599767049154 min ---\n"
     ]
    }
   ],
   "source": [
    "knn_clf_fun(X_train, X_test, y_train, y_test)"
   ]
  },
  {
   "cell_type": "code",
   "execution_count": null,
   "metadata": {},
   "outputs": [],
   "source": []
  },
  {
   "cell_type": "code",
   "execution_count": null,
   "metadata": {},
   "outputs": [],
   "source": []
  }
 ],
 "metadata": {
  "kernelspec": {
   "display_name": "Python 3",
   "language": "python",
   "name": "python3"
  },
  "language_info": {
   "codemirror_mode": {
    "name": "ipython",
    "version": 3
   },
   "file_extension": ".py",
   "mimetype": "text/x-python",
   "name": "python",
   "nbconvert_exporter": "python",
   "pygments_lexer": "ipython3",
   "version": "3.7.0"
  }
 },
 "nbformat": 4,
 "nbformat_minor": 2
}
